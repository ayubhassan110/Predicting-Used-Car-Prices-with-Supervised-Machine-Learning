{
 "cells": [
  {
   "cell_type": "markdown",
   "id": "00779048-e782-427e-927a-81d476036027",
   "metadata": {},
   "source": [
    "### Predicting Old Car Prices Using Supervised Machine Learning"
   ]
  },
  {
   "cell_type": "code",
   "execution_count": 4,
   "id": "4ffea0e9-21af-4dc7-8900-841d4ae277ea",
   "metadata": {},
   "outputs": [],
   "source": [
    "import numpy as np\n",
    "import pandas as pd\n",
    "import matplotlib.pyplot as plt\n",
    "import seaborn as sns"
   ]
  },
  {
   "cell_type": "code",
   "execution_count": 5,
   "id": "ac76c141-7792-4af0-a711-80b13bcdf36d",
   "metadata": {},
   "outputs": [],
   "source": [
    "dataset = pd.read_csv(r\"C:\\Users\\ayub\\Desktop\\Data Science\\Data Science\\DataScience Project\\Project 3 Car Prediction\\car_data.csv\")"
   ]
  },
  {
   "cell_type": "code",
   "execution_count": 6,
   "id": "07674063-2fe1-4cfb-88bb-399f585aa589",
   "metadata": {},
   "outputs": [
    {
     "data": {
      "text/html": [
       "<div>\n",
       "<style scoped>\n",
       "    .dataframe tbody tr th:only-of-type {\n",
       "        vertical-align: middle;\n",
       "    }\n",
       "\n",
       "    .dataframe tbody tr th {\n",
       "        vertical-align: top;\n",
       "    }\n",
       "\n",
       "    .dataframe thead th {\n",
       "        text-align: right;\n",
       "    }\n",
       "</style>\n",
       "<table border=\"1\" class=\"dataframe\">\n",
       "  <thead>\n",
       "    <tr style=\"text-align: right;\">\n",
       "      <th></th>\n",
       "      <th>Car_Name</th>\n",
       "      <th>Year</th>\n",
       "      <th>Present_Price</th>\n",
       "      <th>Kms_Driven</th>\n",
       "      <th>Fuel_Type</th>\n",
       "      <th>Seller_Type</th>\n",
       "      <th>Transmission</th>\n",
       "      <th>Owner</th>\n",
       "      <th>Selling_Price</th>\n",
       "    </tr>\n",
       "  </thead>\n",
       "  <tbody>\n",
       "    <tr>\n",
       "      <th>0</th>\n",
       "      <td>ritz</td>\n",
       "      <td>2014</td>\n",
       "      <td>5.59</td>\n",
       "      <td>27000</td>\n",
       "      <td>Petrol</td>\n",
       "      <td>Dealer</td>\n",
       "      <td>Manual</td>\n",
       "      <td>0</td>\n",
       "      <td>3.35</td>\n",
       "    </tr>\n",
       "    <tr>\n",
       "      <th>1</th>\n",
       "      <td>sx4</td>\n",
       "      <td>2013</td>\n",
       "      <td>9.54</td>\n",
       "      <td>43000</td>\n",
       "      <td>Diesel</td>\n",
       "      <td>Dealer</td>\n",
       "      <td>Manual</td>\n",
       "      <td>0</td>\n",
       "      <td>4.75</td>\n",
       "    </tr>\n",
       "    <tr>\n",
       "      <th>2</th>\n",
       "      <td>ciaz</td>\n",
       "      <td>2017</td>\n",
       "      <td>9.85</td>\n",
       "      <td>6900</td>\n",
       "      <td>Petrol</td>\n",
       "      <td>Dealer</td>\n",
       "      <td>Manual</td>\n",
       "      <td>0</td>\n",
       "      <td>7.25</td>\n",
       "    </tr>\n",
       "    <tr>\n",
       "      <th>3</th>\n",
       "      <td>wagon r</td>\n",
       "      <td>2011</td>\n",
       "      <td>4.15</td>\n",
       "      <td>5200</td>\n",
       "      <td>Petrol</td>\n",
       "      <td>Dealer</td>\n",
       "      <td>Manual</td>\n",
       "      <td>0</td>\n",
       "      <td>2.85</td>\n",
       "    </tr>\n",
       "    <tr>\n",
       "      <th>4</th>\n",
       "      <td>swift</td>\n",
       "      <td>2014</td>\n",
       "      <td>6.87</td>\n",
       "      <td>42450</td>\n",
       "      <td>Diesel</td>\n",
       "      <td>Dealer</td>\n",
       "      <td>Manual</td>\n",
       "      <td>0</td>\n",
       "      <td>4.60</td>\n",
       "    </tr>\n",
       "  </tbody>\n",
       "</table>\n",
       "</div>"
      ],
      "text/plain": [
       "  Car_Name  Year  Present_Price  Kms_Driven Fuel_Type Seller_Type  \\\n",
       "0     ritz  2014           5.59       27000    Petrol      Dealer   \n",
       "1      sx4  2013           9.54       43000    Diesel      Dealer   \n",
       "2     ciaz  2017           9.85        6900    Petrol      Dealer   \n",
       "3  wagon r  2011           4.15        5200    Petrol      Dealer   \n",
       "4    swift  2014           6.87       42450    Diesel      Dealer   \n",
       "\n",
       "  Transmission  Owner  Selling_Price  \n",
       "0       Manual      0           3.35  \n",
       "1       Manual      0           4.75  \n",
       "2       Manual      0           7.25  \n",
       "3       Manual      0           2.85  \n",
       "4       Manual      0           4.60  "
      ]
     },
     "execution_count": 6,
     "metadata": {},
     "output_type": "execute_result"
    }
   ],
   "source": [
    "dataset.head()"
   ]
  },
  {
   "cell_type": "code",
   "execution_count": 7,
   "id": "dbf3c666-1fea-408d-b929-f54b86f37209",
   "metadata": {},
   "outputs": [
    {
     "data": {
      "text/plain": [
       "Car_Name         0\n",
       "Year             0\n",
       "Present_Price    0\n",
       "Kms_Driven       0\n",
       "Fuel_Type        0\n",
       "Seller_Type      0\n",
       "Transmission     0\n",
       "Owner            0\n",
       "Selling_Price    0\n",
       "dtype: int64"
      ]
     },
     "execution_count": 7,
     "metadata": {},
     "output_type": "execute_result"
    }
   ],
   "source": [
    "dataset.isnull().sum()"
   ]
  },
  {
   "cell_type": "code",
   "execution_count": 8,
   "id": "465f8caf-9dfc-43ff-8f12-84f4f3fe19cc",
   "metadata": {},
   "outputs": [
    {
     "name": "stdout",
     "output_type": "stream",
     "text": [
      "<class 'pandas.core.frame.DataFrame'>\n",
      "RangeIndex: 301 entries, 0 to 300\n",
      "Data columns (total 9 columns):\n",
      " #   Column         Non-Null Count  Dtype  \n",
      "---  ------         --------------  -----  \n",
      " 0   Car_Name       301 non-null    object \n",
      " 1   Year           301 non-null    int64  \n",
      " 2   Present_Price  301 non-null    float64\n",
      " 3   Kms_Driven     301 non-null    int64  \n",
      " 4   Fuel_Type      301 non-null    object \n",
      " 5   Seller_Type    301 non-null    object \n",
      " 6   Transmission   301 non-null    object \n",
      " 7   Owner          301 non-null    int64  \n",
      " 8   Selling_Price  301 non-null    float64\n",
      "dtypes: float64(2), int64(3), object(4)\n",
      "memory usage: 21.3+ KB\n"
     ]
    }
   ],
   "source": [
    "dataset.info()"
   ]
  },
  {
   "cell_type": "code",
   "execution_count": 9,
   "id": "f44f9324-3937-4bce-8176-6f0ca3ab4715",
   "metadata": {},
   "outputs": [],
   "source": [
    "# label coding car_Name"
   ]
  },
  {
   "cell_type": "code",
   "execution_count": 10,
   "id": "7e59dabf-ad28-48b5-a210-915ed01b8863",
   "metadata": {},
   "outputs": [],
   "source": [
    "from sklearn.preprocessing import LabelEncoder"
   ]
  },
  {
   "cell_type": "code",
   "execution_count": 11,
   "id": "e6870554-c314-47dd-a14a-ad425fe00db0",
   "metadata": {},
   "outputs": [],
   "source": [
    "cn = LabelEncoder()\n",
    "dataset[\"Car_Name\"]=cn.fit_transform(dataset[\"Car_Name\"])"
   ]
  },
  {
   "cell_type": "code",
   "execution_count": 12,
   "id": "0e1dd979-872e-47c3-8173-dcc0a98495ee",
   "metadata": {},
   "outputs": [],
   "source": [
    "# label coding Fuel_Type"
   ]
  },
  {
   "cell_type": "code",
   "execution_count": 13,
   "id": "c1d7416b-f9b9-493f-93d9-54c8791b4a25",
   "metadata": {},
   "outputs": [],
   "source": [
    "ft = LabelEncoder()\n",
    "dataset[\"Fuel_Type\"]=ft.fit_transform(dataset[\"Fuel_Type\"])"
   ]
  },
  {
   "cell_type": "code",
   "execution_count": 14,
   "id": "6e50fb0b-7c9f-4faf-803e-205dd79d38d8",
   "metadata": {},
   "outputs": [],
   "source": [
    "# label coding Seller_Type"
   ]
  },
  {
   "cell_type": "code",
   "execution_count": 15,
   "id": "0bf9e10e-f300-4809-966c-f59a8d354bbd",
   "metadata": {},
   "outputs": [],
   "source": [
    "st = LabelEncoder()\n",
    "dataset[\"Seller_Type\"]=st.fit_transform(dataset[\"Seller_Type\"])"
   ]
  },
  {
   "cell_type": "code",
   "execution_count": 16,
   "id": "b5b358bd-fe26-4a9f-84d0-e204e2a4f45d",
   "metadata": {},
   "outputs": [],
   "source": [
    "# label coding Transmission"
   ]
  },
  {
   "cell_type": "code",
   "execution_count": 17,
   "id": "a44c00a6-183a-41e3-9c72-47a40c8bb507",
   "metadata": {},
   "outputs": [],
   "source": [
    "tm = LabelEncoder()\n",
    "dataset[\"Transmission\"]=tm.fit_transform(dataset[\"Transmission\"])"
   ]
  },
  {
   "cell_type": "code",
   "execution_count": 18,
   "id": "8e1d8b9c-eff5-4126-b478-cb014866cafc",
   "metadata": {},
   "outputs": [],
   "source": [
    "# sepeart input and output"
   ]
  },
  {
   "cell_type": "code",
   "execution_count": 19,
   "id": "ea1b1768-6561-4749-9681-21d5e9d40145",
   "metadata": {},
   "outputs": [],
   "source": [
    "input_data = dataset.iloc[:,:-1]\n",
    "output_data = dataset[\"Selling_Price\"]"
   ]
  },
  {
   "cell_type": "code",
   "execution_count": 20,
   "id": "16422fc9-c824-486b-946e-5081affac814",
   "metadata": {},
   "outputs": [],
   "source": [
    "# scale the data"
   ]
  },
  {
   "cell_type": "code",
   "execution_count": 21,
   "id": "f31b884b-e141-4911-9da0-7b08827bbe62",
   "metadata": {},
   "outputs": [],
   "source": [
    "from sklearn.preprocessing import StandardScaler"
   ]
  },
  {
   "cell_type": "code",
   "execution_count": 22,
   "id": "a239ced8-f912-4614-b66e-fc332ac53b99",
   "metadata": {},
   "outputs": [],
   "source": [
    "ss = StandardScaler()\n",
    "input_data=pd.DataFrame(ss.fit_transform(input_data),columns=input_data.columns)"
   ]
  },
  {
   "cell_type": "code",
   "execution_count": 23,
   "id": "d2d08741-86cb-4d06-8226-146c35419fdb",
   "metadata": {},
   "outputs": [],
   "source": [
    "# testing data"
   ]
  },
  {
   "cell_type": "code",
   "execution_count": 24,
   "id": "667add9c-3857-413f-93b0-8aa077f85738",
   "metadata": {},
   "outputs": [],
   "source": [
    "from sklearn.model_selection import train_test_split"
   ]
  },
  {
   "cell_type": "code",
   "execution_count": 25,
   "id": "ab0f80be-1796-4491-81c4-90be0f4a213b",
   "metadata": {},
   "outputs": [],
   "source": [
    "x_train, x_test, y_train, y_test = train_test_split(input_data,output_data,test_size=0.2, random_state=42)"
   ]
  },
  {
   "cell_type": "code",
   "execution_count": 26,
   "id": "bfce4828-b990-463b-949d-78ba47352f3c",
   "metadata": {},
   "outputs": [],
   "source": [
    "# try all model for best result"
   ]
  },
  {
   "cell_type": "code",
   "execution_count": 27,
   "id": "7acc8ec9-7366-4b3d-a99e-535095f22061",
   "metadata": {},
   "outputs": [],
   "source": [
    "from sklearn.linear_model import LinearRegression, Lasso, Ridge, ElasticNet\n",
    "from sklearn.tree import DecisionTreeRegressor\n",
    "from sklearn.svm import SVR\n",
    "from sklearn.neighbors import KNeighborsRegressor\n",
    "from sklearn.ensemble import RandomForestRegressor\n",
    "from sklearn.metrics import mean_squared_error, mean_absolute_error"
   ]
  },
  {
   "cell_type": "code",
   "execution_count": 28,
   "id": "4053b24e-8a19-41e9-b918-a1d841d75d3b",
   "metadata": {},
   "outputs": [],
   "source": [
    "# first test linLinearRegression"
   ]
  },
  {
   "cell_type": "code",
   "execution_count": 29,
   "id": "fe30f0fd-8ed6-4579-bd89-af103c515a1c",
   "metadata": {},
   "outputs": [
    {
     "data": {
      "text/plain": [
       "(88.40630578239453, 84.65539666857804)"
      ]
     },
     "execution_count": 29,
     "metadata": {},
     "output_type": "execute_result"
    }
   ],
   "source": [
    "lr = LinearRegression()\n",
    "lr.fit(x_train, y_train)\n",
    "lr.score(x_train,y_train)*100, lr.score(x_test,y_test)*100"
   ]
  },
  {
   "cell_type": "code",
   "execution_count": 30,
   "id": "65cb135f-c302-4ae0-85e5-e92ba40744ce",
   "metadata": {},
   "outputs": [
    {
     "data": {
      "text/plain": [
       "(3.5347190697129807, 1.2142339415047017)"
      ]
     },
     "execution_count": 30,
     "metadata": {},
     "output_type": "execute_result"
    }
   ],
   "source": [
    "mean_squared_error(y_test,lr.predict(x_test)), mean_absolute_error(y_test,lr.predict(x_test))"
   ]
  },
  {
   "cell_type": "code",
   "execution_count": null,
   "id": "d22420f8-58d1-4d6c-b516-4ba1750a4d90",
   "metadata": {},
   "outputs": [],
   "source": []
  },
  {
   "cell_type": "code",
   "execution_count": 31,
   "id": "13fd9206-74ba-4a4a-9657-b97307344708",
   "metadata": {},
   "outputs": [
    {
     "data": {
      "text/plain": [
       "(78.03772098983043, 84.65539666857804)"
      ]
     },
     "execution_count": 31,
     "metadata": {},
     "output_type": "execute_result"
    }
   ],
   "source": [
    "lr1 = Lasso()\n",
    "lr1.fit(x_train, y_train)\n",
    "lr1.score(x_train,y_train)*100, lr.score(x_test,y_test)*100"
   ]
  },
  {
   "cell_type": "code",
   "execution_count": 32,
   "id": "f0ffd29c-a446-4301-8923-e158da7a6229",
   "metadata": {},
   "outputs": [
    {
     "data": {
      "text/plain": [
       "(7.4534854278464895, 1.9596915026356563)"
      ]
     },
     "execution_count": 32,
     "metadata": {},
     "output_type": "execute_result"
    }
   ],
   "source": [
    "mean_squared_error(y_test,lr1.predict(x_test)), mean_absolute_error(y_test,lr1.predict(x_test))"
   ]
  },
  {
   "cell_type": "code",
   "execution_count": null,
   "id": "ab505392-7e89-4c93-a82c-4a0b4a304788",
   "metadata": {},
   "outputs": [],
   "source": []
  },
  {
   "cell_type": "code",
   "execution_count": 33,
   "id": "38b76431-9d06-4d96-9bd3-66954065d6fb",
   "metadata": {},
   "outputs": [
    {
     "data": {
      "text/plain": [
       "(88.4049355671408, 84.65539666857804)"
      ]
     },
     "execution_count": 33,
     "metadata": {},
     "output_type": "execute_result"
    }
   ],
   "source": [
    "lr2 = Ridge()\n",
    "lr2.fit(x_train, y_train)\n",
    "lr2.score(x_train,y_train)*100, lr.score(x_test,y_test)*100"
   ]
  },
  {
   "cell_type": "code",
   "execution_count": 34,
   "id": "db06fdc3-e8bb-4abe-897f-ec151ea25e1f",
   "metadata": {},
   "outputs": [
    {
     "data": {
      "text/plain": [
       "(3.5448518409920426, 1.2157695616481394)"
      ]
     },
     "execution_count": 34,
     "metadata": {},
     "output_type": "execute_result"
    }
   ],
   "source": [
    "mean_squared_error(y_test,lr2.predict(x_test)), mean_absolute_error(y_test,lr2.predict(x_test))"
   ]
  },
  {
   "cell_type": "code",
   "execution_count": null,
   "id": "2e63773e-4c97-4d67-96b6-e8265ae594fa",
   "metadata": {},
   "outputs": [],
   "source": []
  },
  {
   "cell_type": "code",
   "execution_count": 35,
   "id": "7f9ebdea-35f7-4ceb-9721-0dfc5450c7d0",
   "metadata": {},
   "outputs": [
    {
     "data": {
      "text/plain": [
       "(76.32392648480644, 84.65539666857804)"
      ]
     },
     "execution_count": 35,
     "metadata": {},
     "output_type": "execute_result"
    }
   ],
   "source": [
    "lr3 = ElasticNet()\n",
    "lr3.fit(x_train, y_train)\n",
    "lr3.score(x_train,y_train)*100, lr.score(x_test,y_test)*100"
   ]
  },
  {
   "cell_type": "code",
   "execution_count": 36,
   "id": "9a368afe-aa6c-4bf0-96b8-0963bbd553b7",
   "metadata": {},
   "outputs": [
    {
     "data": {
      "text/plain": [
       "(6.9295465105781595, 1.7150489363905772)"
      ]
     },
     "execution_count": 36,
     "metadata": {},
     "output_type": "execute_result"
    }
   ],
   "source": [
    "mean_squared_error(y_test,lr3.predict(x_test)), mean_absolute_error(y_test,lr3.predict(x_test))"
   ]
  },
  {
   "cell_type": "code",
   "execution_count": null,
   "id": "34839107-161a-4a9e-8b2c-2d6a26bfd65a",
   "metadata": {},
   "outputs": [],
   "source": []
  },
  {
   "cell_type": "code",
   "execution_count": 37,
   "id": "25cff429-cf69-48ca-87d4-66f3e2d62575",
   "metadata": {},
   "outputs": [],
   "source": [
    "# now Test DecisionTree"
   ]
  },
  {
   "cell_type": "code",
   "execution_count": 38,
   "id": "56f9ac53-02ba-42c2-9d87-6093609b488d",
   "metadata": {},
   "outputs": [
    {
     "data": {
      "text/plain": [
       "(100.0, 94.5882516340994)"
      ]
     },
     "execution_count": 38,
     "metadata": {},
     "output_type": "execute_result"
    }
   ],
   "source": [
    "dt = DecisionTreeRegressor()\n",
    "dt.fit(x_train,y_train)\n",
    "dt.score(x_train,y_train)*100, dt.score(x_test,y_test)*100"
   ]
  },
  {
   "cell_type": "code",
   "execution_count": 39,
   "id": "33a803a2-8b65-4947-9489-cf2596c3cdb6",
   "metadata": {},
   "outputs": [
    {
     "data": {
      "text/plain": [
       "(1.246627868852459, 0.6962295081967212)"
      ]
     },
     "execution_count": 39,
     "metadata": {},
     "output_type": "execute_result"
    }
   ],
   "source": [
    "mean_squared_error(y_test,dt.predict(x_test)), mean_absolute_error(y_test,dt.predict(x_test))"
   ]
  },
  {
   "cell_type": "code",
   "execution_count": null,
   "id": "c93dd69e-f241-4ac7-ac94-ae8c0bc4043a",
   "metadata": {},
   "outputs": [],
   "source": []
  },
  {
   "cell_type": "code",
   "execution_count": 40,
   "id": "9fe3377d-21a9-44b3-b905-fcbddbbfced1",
   "metadata": {},
   "outputs": [],
   "source": [
    "# now Test SVR"
   ]
  },
  {
   "cell_type": "code",
   "execution_count": 41,
   "id": "79f6661a-4751-4ae2-8279-6ff8b02fa6ed",
   "metadata": {},
   "outputs": [
    {
     "data": {
      "text/plain": [
       "(66.00840380338376, 78.48466914602926)"
      ]
     },
     "execution_count": 41,
     "metadata": {},
     "output_type": "execute_result"
    }
   ],
   "source": [
    "sv = SVR()\n",
    "sv.fit(x_train,y_train)\n",
    "sv.score(x_train,y_train)*100, sv.score(x_test,y_test)*100"
   ]
  },
  {
   "cell_type": "code",
   "execution_count": 42,
   "id": "c36bd8dd-bf8b-4989-963e-da892c38893c",
   "metadata": {},
   "outputs": [
    {
     "data": {
      "text/plain": [
       "(4.956182223686515, 0.9945642205689338)"
      ]
     },
     "execution_count": 42,
     "metadata": {},
     "output_type": "execute_result"
    }
   ],
   "source": [
    "mean_squared_error(y_test,sv.predict(x_test)), mean_absolute_error(y_test,sv.predict(x_test))"
   ]
  },
  {
   "cell_type": "code",
   "execution_count": null,
   "id": "34f0edd9-bfac-498b-a8d9-b8df467a0a19",
   "metadata": {},
   "outputs": [],
   "source": []
  },
  {
   "cell_type": "code",
   "execution_count": 43,
   "id": "756ab209-6800-4f91-acb3-b96ff57b1641",
   "metadata": {},
   "outputs": [],
   "source": [
    "# now test KNeighborsRegressor"
   ]
  },
  {
   "cell_type": "code",
   "execution_count": 44,
   "id": "8ba0f156-da43-46b4-b9a0-a7f8c9609d2a",
   "metadata": {},
   "outputs": [
    {
     "data": {
      "text/plain": [
       "(91.06681012800678, 93.29996797075346)"
      ]
     },
     "execution_count": 44,
     "metadata": {},
     "output_type": "execute_result"
    }
   ],
   "source": [
    "kn = KNeighborsRegressor()\n",
    "kn.fit(x_train,y_train)\n",
    "kn.score(x_train,y_train)*100, kn.score(x_test,y_test)*100"
   ]
  },
  {
   "cell_type": "code",
   "execution_count": 45,
   "id": "990fcbaf-9eff-4a24-b114-b9f4eefcc023",
   "metadata": {},
   "outputs": [
    {
     "data": {
      "text/plain": [
       "(1.5433915409836068, 0.6835737704918031)"
      ]
     },
     "execution_count": 45,
     "metadata": {},
     "output_type": "execute_result"
    }
   ],
   "source": [
    "mean_squared_error(y_test,kn.predict(x_test)), mean_absolute_error(y_test,kn.predict(x_test))"
   ]
  },
  {
   "cell_type": "code",
   "execution_count": null,
   "id": "7fda5342-9250-4408-8b77-05ee9be3b544",
   "metadata": {},
   "outputs": [],
   "source": []
  },
  {
   "cell_type": "code",
   "execution_count": 46,
   "id": "8741b8b0-2566-4ba9-b0a9-39f4b14e08a7",
   "metadata": {},
   "outputs": [],
   "source": [
    "# now test RandomForestRegressor"
   ]
  },
  {
   "cell_type": "code",
   "execution_count": 47,
   "id": "c74a0d3f-dcba-4685-bcba-95807d48b223",
   "metadata": {},
   "outputs": [
    {
     "data": {
      "text/plain": [
       "(98.5461365324627, 96.27810494288016)"
      ]
     },
     "execution_count": 47,
     "metadata": {},
     "output_type": "execute_result"
    }
   ],
   "source": [
    "rf  = RandomForestRegressor()\n",
    "rf.fit(x_train, y_train)\n",
    "rf.score(x_train,y_train)*100, rf.score(x_test,y_test)*100"
   ]
  },
  {
   "cell_type": "code",
   "execution_count": 48,
   "id": "3b485740-8454-4534-859e-dcb514452a18",
   "metadata": {},
   "outputs": [
    {
     "data": {
      "text/plain": [
       "(0.8573602816393449, 0.5874196721311478)"
      ]
     },
     "execution_count": 48,
     "metadata": {},
     "output_type": "execute_result"
    }
   ],
   "source": [
    "mean_squared_error(y_test,rf.predict(x_test)), mean_absolute_error(y_test,rf.predict(x_test))"
   ]
  },
  {
   "cell_type": "code",
   "execution_count": 49,
   "id": "d2ebcf4f-0964-47cd-9b5c-0362b4c6ae4d",
   "metadata": {},
   "outputs": [],
   "source": [
    "# so we select RandomForestRegressor model good result\n",
    "# now predict the value"
   ]
  },
  {
   "cell_type": "code",
   "execution_count": 50,
   "id": "0c11b48d-491a-4295-ae11-6d8ad1351ef3",
   "metadata": {},
   "outputs": [
    {
     "data": {
      "text/html": [
       "<div>\n",
       "<style scoped>\n",
       "    .dataframe tbody tr th:only-of-type {\n",
       "        vertical-align: middle;\n",
       "    }\n",
       "\n",
       "    .dataframe tbody tr th {\n",
       "        vertical-align: top;\n",
       "    }\n",
       "\n",
       "    .dataframe thead th {\n",
       "        text-align: right;\n",
       "    }\n",
       "</style>\n",
       "<table border=\"1\" class=\"dataframe\">\n",
       "  <thead>\n",
       "    <tr style=\"text-align: right;\">\n",
       "      <th></th>\n",
       "      <th>Car_Name</th>\n",
       "      <th>Year</th>\n",
       "      <th>Present_Price</th>\n",
       "      <th>Kms_Driven</th>\n",
       "      <th>Fuel_Type</th>\n",
       "      <th>Seller_Type</th>\n",
       "      <th>Transmission</th>\n",
       "      <th>Owner</th>\n",
       "    </tr>\n",
       "  </thead>\n",
       "  <tbody>\n",
       "    <tr>\n",
       "      <th>177</th>\n",
       "      <td>-1.275759</td>\n",
       "      <td>0.821718</td>\n",
       "      <td>-0.817924</td>\n",
       "      <td>-0.333500</td>\n",
       "      <td>0.500183</td>\n",
       "      <td>1.356327</td>\n",
       "      <td>-2.554408</td>\n",
       "      <td>-0.174501</td>\n",
       "    </tr>\n",
       "    <tr>\n",
       "      <th>289</th>\n",
       "      <td>0.251795</td>\n",
       "      <td>0.821718</td>\n",
       "      <td>0.691970</td>\n",
       "      <td>-0.668875</td>\n",
       "      <td>0.500183</td>\n",
       "      <td>-0.737285</td>\n",
       "      <td>0.391480</td>\n",
       "      <td>-0.174501</td>\n",
       "    </tr>\n",
       "    <tr>\n",
       "      <th>228</th>\n",
       "      <td>1.230996</td>\n",
       "      <td>-0.563924</td>\n",
       "      <td>0.205282</td>\n",
       "      <td>0.593804</td>\n",
       "      <td>-1.852241</td>\n",
       "      <td>-0.737285</td>\n",
       "      <td>0.391480</td>\n",
       "      <td>-0.174501</td>\n",
       "    </tr>\n",
       "    <tr>\n",
       "      <th>198</th>\n",
       "      <td>-2.059120</td>\n",
       "      <td>-0.910335</td>\n",
       "      <td>-0.817924</td>\n",
       "      <td>-0.050157</td>\n",
       "      <td>0.500183</td>\n",
       "      <td>1.356327</td>\n",
       "      <td>0.391480</td>\n",
       "      <td>3.865859</td>\n",
       "    </tr>\n",
       "    <tr>\n",
       "      <th>60</th>\n",
       "      <td>0.330131</td>\n",
       "      <td>-0.217514</td>\n",
       "      <td>1.272521</td>\n",
       "      <td>0.078661</td>\n",
       "      <td>0.500183</td>\n",
       "      <td>-0.737285</td>\n",
       "      <td>0.391480</td>\n",
       "      <td>-0.174501</td>\n",
       "    </tr>\n",
       "    <tr>\n",
       "      <th>...</th>\n",
       "      <td>...</td>\n",
       "      <td>...</td>\n",
       "      <td>...</td>\n",
       "      <td>...</td>\n",
       "      <td>...</td>\n",
       "      <td>...</td>\n",
       "      <td>...</td>\n",
       "      <td>...</td>\n",
       "    </tr>\n",
       "    <tr>\n",
       "      <th>234</th>\n",
       "      <td>0.760979</td>\n",
       "      <td>0.475308</td>\n",
       "      <td>-0.223468</td>\n",
       "      <td>-0.835995</td>\n",
       "      <td>0.500183</td>\n",
       "      <td>-0.737285</td>\n",
       "      <td>0.391480</td>\n",
       "      <td>-0.174501</td>\n",
       "    </tr>\n",
       "    <tr>\n",
       "      <th>296</th>\n",
       "      <td>0.251795</td>\n",
       "      <td>0.821718</td>\n",
       "      <td>0.460214</td>\n",
       "      <td>-0.076225</td>\n",
       "      <td>-1.852241</td>\n",
       "      <td>-0.737285</td>\n",
       "      <td>0.391480</td>\n",
       "      <td>-0.174501</td>\n",
       "    </tr>\n",
       "    <tr>\n",
       "      <th>281</th>\n",
       "      <td>0.251795</td>\n",
       "      <td>-2.642389</td>\n",
       "      <td>-0.003299</td>\n",
       "      <td>0.347965</td>\n",
       "      <td>0.500183</td>\n",
       "      <td>-0.737285</td>\n",
       "      <td>0.391480</td>\n",
       "      <td>-0.174501</td>\n",
       "    </tr>\n",
       "    <tr>\n",
       "      <th>285</th>\n",
       "      <td>0.956819</td>\n",
       "      <td>0.821718</td>\n",
       "      <td>0.100991</td>\n",
       "      <td>-0.563806</td>\n",
       "      <td>0.500183</td>\n",
       "      <td>-0.737285</td>\n",
       "      <td>-2.554408</td>\n",
       "      <td>-0.174501</td>\n",
       "    </tr>\n",
       "    <tr>\n",
       "      <th>182</th>\n",
       "      <td>-1.158255</td>\n",
       "      <td>-0.217514</td>\n",
       "      <td>-0.816765</td>\n",
       "      <td>-0.178949</td>\n",
       "      <td>0.500183</td>\n",
       "      <td>1.356327</td>\n",
       "      <td>0.391480</td>\n",
       "      <td>-0.174501</td>\n",
       "    </tr>\n",
       "  </tbody>\n",
       "</table>\n",
       "<p>61 rows × 8 columns</p>\n",
       "</div>"
      ],
      "text/plain": [
       "     Car_Name      Year  Present_Price  Kms_Driven  Fuel_Type  Seller_Type  \\\n",
       "177 -1.275759  0.821718      -0.817924   -0.333500   0.500183     1.356327   \n",
       "289  0.251795  0.821718       0.691970   -0.668875   0.500183    -0.737285   \n",
       "228  1.230996 -0.563924       0.205282    0.593804  -1.852241    -0.737285   \n",
       "198 -2.059120 -0.910335      -0.817924   -0.050157   0.500183     1.356327   \n",
       "60   0.330131 -0.217514       1.272521    0.078661   0.500183    -0.737285   \n",
       "..        ...       ...            ...         ...        ...          ...   \n",
       "234  0.760979  0.475308      -0.223468   -0.835995   0.500183    -0.737285   \n",
       "296  0.251795  0.821718       0.460214   -0.076225  -1.852241    -0.737285   \n",
       "281  0.251795 -2.642389      -0.003299    0.347965   0.500183    -0.737285   \n",
       "285  0.956819  0.821718       0.100991   -0.563806   0.500183    -0.737285   \n",
       "182 -1.158255 -0.217514      -0.816765   -0.178949   0.500183     1.356327   \n",
       "\n",
       "     Transmission     Owner  \n",
       "177     -2.554408 -0.174501  \n",
       "289      0.391480 -0.174501  \n",
       "228      0.391480 -0.174501  \n",
       "198      0.391480  3.865859  \n",
       "60       0.391480 -0.174501  \n",
       "..            ...       ...  \n",
       "234      0.391480 -0.174501  \n",
       "296      0.391480 -0.174501  \n",
       "281      0.391480 -0.174501  \n",
       "285     -2.554408 -0.174501  \n",
       "182      0.391480 -0.174501  \n",
       "\n",
       "[61 rows x 8 columns]"
      ]
     },
     "execution_count": 50,
     "metadata": {},
     "output_type": "execute_result"
    }
   ],
   "source": [
    "x_test"
   ]
  },
  {
   "cell_type": "code",
   "execution_count": 51,
   "id": "591849c6-a0f7-4a70-a767-47f5eda7cd0b",
   "metadata": {},
   "outputs": [],
   "source": [
    "# take first row value of x_test and put in predict"
   ]
  },
  {
   "cell_type": "code",
   "execution_count": 52,
   "id": "ba94e1a5-84e6-4ff9-9bb2-b0fcb378d69e",
   "metadata": {},
   "outputs": [
    {
     "name": "stderr",
     "output_type": "stream",
     "text": [
      "C:\\Users\\ayub\\anaconda3\\Lib\\site-packages\\sklearn\\base.py:493: UserWarning: X does not have valid feature names, but RandomForestRegressor was fitted with feature names\n",
      "  warnings.warn(\n"
     ]
    },
    {
     "data": {
      "text/plain": [
       "array([0.431])"
      ]
     },
     "execution_count": 52,
     "metadata": {},
     "output_type": "execute_result"
    }
   ],
   "source": [
    "rf.predict([[-1.275759,0.821718,-0.817924,-0.333500,0.500183,1.356327,-2.554408,-0.174501]])"
   ]
  },
  {
   "cell_type": "code",
   "execution_count": 53,
   "id": "d7add74a-0934-4df7-bcef-2b944477f962",
   "metadata": {},
   "outputs": [
    {
     "data": {
      "text/plain": [
       "177     0.35\n",
       "289    10.11\n",
       "228     4.95\n",
       "198     0.15\n",
       "60      6.95\n",
       "       ...  \n",
       "234     5.50\n",
       "296     9.50\n",
       "281     2.10\n",
       "285     7.40\n",
       "182     0.30\n",
       "Name: Selling_Price, Length: 61, dtype: float64"
      ]
     },
     "execution_count": 53,
     "metadata": {},
     "output_type": "execute_result"
    }
   ],
   "source": [
    "y_test"
   ]
  },
  {
   "cell_type": "code",
   "execution_count": 54,
   "id": "6b722730-8522-4bf4-bc26-000be58d901f",
   "metadata": {},
   "outputs": [],
   "source": [
    "# now if we take data from user it will be in the form of ordinal not numerical for this we firt store data in dataframe and then test the model"
   ]
  },
  {
   "cell_type": "code",
   "execution_count": 55,
   "id": "149941a5-c570-46a9-82b0-b193706da4fa",
   "metadata": {},
   "outputs": [
    {
     "data": {
      "text/html": [
       "<div>\n",
       "<style scoped>\n",
       "    .dataframe tbody tr th:only-of-type {\n",
       "        vertical-align: middle;\n",
       "    }\n",
       "\n",
       "    .dataframe tbody tr th {\n",
       "        vertical-align: top;\n",
       "    }\n",
       "\n",
       "    .dataframe thead th {\n",
       "        text-align: right;\n",
       "    }\n",
       "</style>\n",
       "<table border=\"1\" class=\"dataframe\">\n",
       "  <thead>\n",
       "    <tr style=\"text-align: right;\">\n",
       "      <th></th>\n",
       "      <th>Car_Name</th>\n",
       "      <th>Year</th>\n",
       "      <th>Present_Price</th>\n",
       "      <th>Kms_Driven</th>\n",
       "      <th>Fuel_Type</th>\n",
       "      <th>Seller_Type</th>\n",
       "      <th>Transmission</th>\n",
       "      <th>Owner</th>\n",
       "    </tr>\n",
       "  </thead>\n",
       "  <tbody>\n",
       "    <tr>\n",
       "      <th>0</th>\n",
       "      <td>sx4</td>\n",
       "      <td>2014</td>\n",
       "      <td>5.59</td>\n",
       "      <td>27000</td>\n",
       "      <td>Petrol</td>\n",
       "      <td>Dealer</td>\n",
       "      <td>Manual</td>\n",
       "      <td>0</td>\n",
       "    </tr>\n",
       "  </tbody>\n",
       "</table>\n",
       "</div>"
      ],
      "text/plain": [
       "  Car_Name  Year  Present_Price  Kms_Driven Fuel_Type Seller_Type  \\\n",
       "0      sx4  2014           5.59       27000    Petrol      Dealer   \n",
       "\n",
       "  Transmission  Owner  \n",
       "0       Manual      0  "
      ]
     },
     "execution_count": 55,
     "metadata": {},
     "output_type": "execute_result"
    }
   ],
   "source": [
    "new_data = pd.DataFrame([['sx4',2014,5.59,27000,\"Petrol\",\"Dealer\",\"Manual\",0]],columns=x_train.columns)\n",
    "new_data"
   ]
  },
  {
   "cell_type": "code",
   "execution_count": 56,
   "id": "dd0759cd-5c2c-43f5-a410-93ad0d5fbd15",
   "metadata": {},
   "outputs": [
    {
     "name": "stdout",
     "output_type": "stream",
     "text": [
      "<class 'pandas.core.frame.DataFrame'>\n",
      "RangeIndex: 1 entries, 0 to 0\n",
      "Data columns (total 8 columns):\n",
      " #   Column         Non-Null Count  Dtype  \n",
      "---  ------         --------------  -----  \n",
      " 0   Car_Name       1 non-null      object \n",
      " 1   Year           1 non-null      int64  \n",
      " 2   Present_Price  1 non-null      float64\n",
      " 3   Kms_Driven     1 non-null      int64  \n",
      " 4   Fuel_Type      1 non-null      object \n",
      " 5   Seller_Type    1 non-null      object \n",
      " 6   Transmission   1 non-null      object \n",
      " 7   Owner          1 non-null      int64  \n",
      "dtypes: float64(1), int64(3), object(4)\n",
      "memory usage: 196.0+ bytes\n"
     ]
    }
   ],
   "source": [
    "new_data.info()"
   ]
  },
  {
   "cell_type": "code",
   "execution_count": 57,
   "id": "da9d542f-f4f1-49d0-86b4-0fa77844ebc4",
   "metadata": {},
   "outputs": [],
   "source": [
    "new_data['Car_Name']=cn.transform(new_data[\"Car_Name\"])"
   ]
  },
  {
   "cell_type": "code",
   "execution_count": 58,
   "id": "98f139c0-2324-433e-acb6-c7e4d6a274ea",
   "metadata": {},
   "outputs": [],
   "source": [
    "new_data['Fuel_Type']=ft.transform(new_data[\"Fuel_Type\"])"
   ]
  },
  {
   "cell_type": "code",
   "execution_count": 59,
   "id": "331d614d-2db0-47fa-a750-539df972f330",
   "metadata": {},
   "outputs": [],
   "source": [
    "new_data['Seller_Type']=st.transform(new_data[\"Seller_Type\"])"
   ]
  },
  {
   "cell_type": "code",
   "execution_count": 60,
   "id": "c0bd9e04-aa5f-451c-aea5-26d34b38530e",
   "metadata": {},
   "outputs": [],
   "source": [
    "new_data['Transmission']=tm.transform(new_data[\"Transmission\"])"
   ]
  },
  {
   "cell_type": "code",
   "execution_count": 61,
   "id": "fd6431df-3178-4dff-a6b6-5a76d2bc69c2",
   "metadata": {},
   "outputs": [
    {
     "data": {
      "text/html": [
       "<div>\n",
       "<style scoped>\n",
       "    .dataframe tbody tr th:only-of-type {\n",
       "        vertical-align: middle;\n",
       "    }\n",
       "\n",
       "    .dataframe tbody tr th {\n",
       "        vertical-align: top;\n",
       "    }\n",
       "\n",
       "    .dataframe thead th {\n",
       "        text-align: right;\n",
       "    }\n",
       "</style>\n",
       "<table border=\"1\" class=\"dataframe\">\n",
       "  <thead>\n",
       "    <tr style=\"text-align: right;\">\n",
       "      <th></th>\n",
       "      <th>Car_Name</th>\n",
       "      <th>Year</th>\n",
       "      <th>Present_Price</th>\n",
       "      <th>Kms_Driven</th>\n",
       "      <th>Fuel_Type</th>\n",
       "      <th>Seller_Type</th>\n",
       "      <th>Transmission</th>\n",
       "      <th>Owner</th>\n",
       "    </tr>\n",
       "  </thead>\n",
       "  <tbody>\n",
       "    <tr>\n",
       "      <th>0</th>\n",
       "      <td>93</td>\n",
       "      <td>2014</td>\n",
       "      <td>5.59</td>\n",
       "      <td>27000</td>\n",
       "      <td>2</td>\n",
       "      <td>0</td>\n",
       "      <td>1</td>\n",
       "      <td>0</td>\n",
       "    </tr>\n",
       "  </tbody>\n",
       "</table>\n",
       "</div>"
      ],
      "text/plain": [
       "   Car_Name  Year  Present_Price  Kms_Driven  Fuel_Type  Seller_Type  \\\n",
       "0        93  2014           5.59       27000          2            0   \n",
       "\n",
       "   Transmission  Owner  \n",
       "0             1      0  "
      ]
     },
     "execution_count": 61,
     "metadata": {},
     "output_type": "execute_result"
    }
   ],
   "source": [
    "new_data"
   ]
  },
  {
   "cell_type": "code",
   "execution_count": 62,
   "id": "331dae5e-14a3-4aa1-b472-a3382d7ce18c",
   "metadata": {},
   "outputs": [],
   "source": [
    "# now scealing the data"
   ]
  },
  {
   "cell_type": "code",
   "execution_count": 63,
   "id": "b5e54e3d-96e4-4d23-8b86-bf41e74724f4",
   "metadata": {},
   "outputs": [],
   "source": [
    "new_data= pd.DataFrame(ss.transform(new_data),columns=new_data.columns)"
   ]
  },
  {
   "cell_type": "code",
   "execution_count": 64,
   "id": "d49ec377-355a-441a-80aa-5d97da741135",
   "metadata": {},
   "outputs": [
    {
     "data": {
      "text/html": [
       "<div>\n",
       "<style scoped>\n",
       "    .dataframe tbody tr th:only-of-type {\n",
       "        vertical-align: middle;\n",
       "    }\n",
       "\n",
       "    .dataframe tbody tr th {\n",
       "        vertical-align: top;\n",
       "    }\n",
       "\n",
       "    .dataframe thead th {\n",
       "        text-align: right;\n",
       "    }\n",
       "</style>\n",
       "<table border=\"1\" class=\"dataframe\">\n",
       "  <thead>\n",
       "    <tr style=\"text-align: right;\">\n",
       "      <th></th>\n",
       "      <th>Car_Name</th>\n",
       "      <th>Year</th>\n",
       "      <th>Present_Price</th>\n",
       "      <th>Kms_Driven</th>\n",
       "      <th>Fuel_Type</th>\n",
       "      <th>Seller_Type</th>\n",
       "      <th>Transmission</th>\n",
       "      <th>Owner</th>\n",
       "    </tr>\n",
       "  </thead>\n",
       "  <tbody>\n",
       "    <tr>\n",
       "      <th>0</th>\n",
       "      <td>1.191828</td>\n",
       "      <td>0.128897</td>\n",
       "      <td>-0.236215</td>\n",
       "      <td>-0.256224</td>\n",
       "      <td>0.500183</td>\n",
       "      <td>-0.737285</td>\n",
       "      <td>0.39148</td>\n",
       "      <td>-0.174501</td>\n",
       "    </tr>\n",
       "  </tbody>\n",
       "</table>\n",
       "</div>"
      ],
      "text/plain": [
       "   Car_Name      Year  Present_Price  Kms_Driven  Fuel_Type  Seller_Type  \\\n",
       "0  1.191828  0.128897      -0.236215   -0.256224   0.500183    -0.737285   \n",
       "\n",
       "   Transmission     Owner  \n",
       "0       0.39148 -0.174501  "
      ]
     },
     "execution_count": 64,
     "metadata": {},
     "output_type": "execute_result"
    }
   ],
   "source": [
    "new_data"
   ]
  },
  {
   "cell_type": "code",
   "execution_count": 65,
   "id": "2c65b1a3-d59c-4c7c-bbf4-7777836c8e50",
   "metadata": {},
   "outputs": [
    {
     "data": {
      "text/plain": [
       "array([3.734])"
      ]
     },
     "execution_count": 65,
     "metadata": {},
     "output_type": "execute_result"
    }
   ],
   "source": [
    "rf.predict(new_data)"
   ]
  },
  {
   "cell_type": "code",
   "execution_count": null,
   "id": "ef3e32f1-9baa-45e9-88e0-1dd6ccc2b8b9",
   "metadata": {},
   "outputs": [],
   "source": []
  },
  {
   "cell_type": "code",
   "execution_count": null,
   "id": "0b802d85-8ac1-4d1a-8359-33aafc0b533e",
   "metadata": {},
   "outputs": [],
   "source": []
  },
  {
   "cell_type": "code",
   "execution_count": null,
   "id": "ef9094bb-d057-46ba-a898-0795becd1aea",
   "metadata": {},
   "outputs": [],
   "source": []
  }
 ],
 "metadata": {
  "kernelspec": {
   "display_name": "Python [conda env:base] *",
   "language": "python",
   "name": "conda-base-py"
  },
  "language_info": {
   "codemirror_mode": {
    "name": "ipython",
    "version": 3
   },
   "file_extension": ".py",
   "mimetype": "text/x-python",
   "name": "python",
   "nbconvert_exporter": "python",
   "pygments_lexer": "ipython3",
   "version": "3.12.7"
  }
 },
 "nbformat": 4,
 "nbformat_minor": 5
}
